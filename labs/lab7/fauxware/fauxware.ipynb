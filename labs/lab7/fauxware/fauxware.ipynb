{
 "cells": [
  {
   "cell_type": "markdown",
   "metadata": {},
   "source": [
    "# Overview\n",
    "\n",
    "This lab has been adapted from the angr [motivating example](https://github.com/angr/angr-doc/tree/master/examples/fauxware). It shows the basic lifecycle and capabilities of the angr framework. \n",
    "\n",
    "Note this lab (and other notebooks running angr) should be run with the Python 3 kernel!\n",
    "\n",
    "Look at fauxware.c! This is the source code for a \"faux firmware\" (@zardus really likes the puns) that's meant to be a simple representation of a firmware that can authenticate users but also has a backdoor - the backdoor is that anybody who provides the string \"SOSNEAKY\" as their password will be automatically authenticated."
   ]
  },
  {
   "cell_type": "code",
   "execution_count": 1,
   "metadata": {},
   "outputs": [],
   "source": [
    "# import the python system and angr libraries\n",
    "\n",
    "import angr\n",
    "import sys"
   ]
  },
  {
   "cell_type": "code",
   "execution_count": 2,
   "metadata": {},
   "outputs": [],
   "source": [
    "# We can use this as a basic demonstration of using angr for symbolic execution. \n",
    "# First, we load the binary into an angr project.\n",
    "\n",
    "p = angr.Project('/home/pac/Desktop/labs/lab7/fauxware/fauxware')"
   ]
  },
  {
   "cell_type": "code",
   "execution_count": 3,
   "metadata": {},
   "outputs": [],
   "source": [
    "# Now, we want to construct a representation of symbolic program state.\n",
    "# SimState objects are what angr manipulates when it symbolically executes\n",
    "# binary code.\n",
    "# The entry_state constructor generates a SimState that is a very generic\n",
    "# representation of the possible program states at the program's entry\n",
    "# point. There are more constructors, like blank_state, which constructs a\n",
    "# \"blank slate\" state that specifies as little concrete data as possible,\n",
    "# or full_init_state, which performs a slow and pedantic initialization of\n",
    "# program state as it would execute through the dynamic loader.\n",
    "\n",
    "state = p.factory.entry_state()\n",
    "\n",
    "# Now, in order to manage the symbolic execution process from a very high\n",
    "# level, we have a SimulationManager. SimulationManager is just collections\n",
    "# of states with various tags attached with a number of convenient\n",
    "# interfaces for managing them.\n",
    "\n",
    "sm = p.factory.simulation_manager(state)"
   ]
  },
  {
   "cell_type": "code",
   "execution_count": 4,
   "metadata": {},
   "outputs": [
    {
     "name": "stderr",
     "output_type": "stream",
     "text": [
      "WARNING | 2020-05-25 18:09:10,546 | \u001b[32mangr.state_plugins.symbolic_memory\u001b[0m | \u001b[32mThe program is accessing memory or registers with an unspecified value. This could indicate unwanted behavior.\u001b[0m\n",
      "WARNING | 2020-05-25 18:09:10,556 | \u001b[32mangr.state_plugins.symbolic_memory\u001b[0m | \u001b[32mangr will cope with this by generating an unconstrained symbolic variable and continuing. You can resolve this by:\u001b[0m\n",
      "WARNING | 2020-05-25 18:09:10,563 | \u001b[32mangr.state_plugins.symbolic_memory\u001b[0m | \u001b[32m1) setting a value to the initial state\u001b[0m\n",
      "WARNING | 2020-05-25 18:09:10,565 | \u001b[32mangr.state_plugins.symbolic_memory\u001b[0m | \u001b[32m2) adding the state option ZERO_FILL_UNCONSTRAINED_{MEMORY,REGISTERS}, to make unknown regions hold null\u001b[0m\n",
      "WARNING | 2020-05-25 18:09:10,566 | \u001b[32mangr.state_plugins.symbolic_memory\u001b[0m | \u001b[32m3) adding the state option SYMBOL_FILL_UNCONSTRAINED_{MEMORY_REGISTERS}, to suppress these messages.\u001b[0m\n",
      "WARNING | 2020-05-25 18:09:10,568 | \u001b[32mangr.state_plugins.symbolic_memory\u001b[0m | \u001b[32mFilling memory at 0x7fffffffffefff8 with 40 unconstrained bytes referenced from 0x109d800 (strcmp+0x0 in libc.so.6 (0x9d800))\u001b[0m\n",
      "WARNING | 2020-05-25 18:09:10,577 | \u001b[32mangr.state_plugins.symbolic_memory\u001b[0m | \u001b[32mFilling memory at 0x7fffffffffeff50 with 8 unconstrained bytes referenced from 0x109d800 (strcmp+0x0 in libc.so.6 (0x9d800))\u001b[0m\n"
     ]
    }
   ],
   "source": [
    "# Now, we begin execution. This will symbolically execute the program until\n",
    "# we reach a branch statement for which both branches are satisfiable.\n",
    "\n",
    "sm.run(until=lambda sm_: len(sm_.active) > 1)\n",
    "\n",
    "# If you look at the C code, you see that the first \"if\" statement that the\n",
    "# program can come across is comparing the result of the strcmp with the\n",
    "# backdoor password. So, we have halted execution with two states, each of\n",
    "# which has taken a different arm of that conditional branch. If you drop\n",
    "# an IPython shell here and examine sm.active[n].solver.constraints\n",
    "# you will see the encoding of the condition that was added to the state to\n",
    "# constrain it to going down this path, instead of the other one. These are\n",
    "# the constraints that will eventually be passed to our constraint solver\n",
    "# (z3) to produce a set of concrete inputs satisfying them.\n",
    "\n",
    "# As a matter of fact, we'll do that now.\n",
    "\n",
    "input_0 = sm.active[0].posix.dumps(0)\n",
    "input_1 = sm.active[1].posix.dumps(0)"
   ]
  },
  {
   "cell_type": "code",
   "execution_count": 5,
   "metadata": {},
   "outputs": [
    {
     "name": "stdout",
     "output_type": "stream",
     "text": [
      "Result: b'\\x00\\x00\\x00\\x00\\x00\\x00\\x00\\x00\\x00SOSNEAKY\\x00'\n"
     ]
    }
   ],
   "source": [
    "# We have used a utility function on the state's posix plugin to perform a\n",
    "# quick and dirty concretization of the content in file descriptor zero,\n",
    "# stdin. One of these strings should contain the substring \"SOSNEAKY\"!\n",
    "\n",
    "if b'SOSNEAKY' in input_0:\n",
    "    analysis_result = input_0\n",
    "else:\n",
    "    analysis_result = input_1\n",
    "    \n",
    "print(\"Result: \" + str(analysis_result))\n",
    "\n",
    "with open(\"/home/pac/Desktop/labs/lab7/fauxware/analysis_result\", \"wb\") as file:\n",
    "    file.write(analysis_result)"
   ]
  },
  {
   "cell_type": "code",
   "execution_count": 6,
   "metadata": {},
   "outputs": [
    {
     "name": "stdout",
     "output_type": "stream",
     "text": [
      "Username: \n",
      "Password: \n",
      "Welcome to the admin console, trusted user!\n",
      "\n"
     ]
    }
   ],
   "source": [
    "# You should be able to run this script and pipe its output to fauxware and\n",
    "# fauxware will authenticate you!\n",
    "\n",
    "import os\n",
    "command = \"/home/pac/Desktop/labs/lab7/fauxware/fauxware < /home/pac/Desktop/labs/lab7/fauxware/analysis_result\"\n",
    "print(os.popen(command).read())"
   ]
  }
 ],
 "metadata": {
  "kernelspec": {
   "display_name": "Python 3",
   "language": "python",
   "name": "python3"
  },
  "language_info": {
   "codemirror_mode": {
    "name": "ipython",
    "version": 3
   },
   "file_extension": ".py",
   "mimetype": "text/x-python",
   "name": "python",
   "nbconvert_exporter": "python",
   "pygments_lexer": "ipython3",
   "version": "3.6.9"
  }
 },
 "nbformat": 4,
 "nbformat_minor": 2
}
