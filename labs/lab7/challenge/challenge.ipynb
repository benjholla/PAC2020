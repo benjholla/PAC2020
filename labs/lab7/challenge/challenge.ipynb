{
 "cells": [
  {
   "cell_type": "markdown",
   "metadata": {},
   "source": [
    "# Overview\n",
    "\n",
    "This examples uses symbolic execution to solve the challenge binary.\n",
    "\n",
    "Compile the binary with `gcc challenge.c -no-pie -o challenge`\n",
    "\n",
    "This example embeds and NP-complete problem ([integer factorization](https://en.wikipedia.org/wiki/Factorization#Integers)) into the the analyis challenge. This is not meant to be a critique of symbolic execution in general, since truly any program analysis technique will struggle with this example! In fact, if there were an efficient automatic technique to solve this challenge we would have bigger problems in security (our cypto algorithms rely on this problem being hard to solve).\n",
    "\n",
    "## Experiment:\n",
    "Try a few experiements and observe how it affects the solver. Does the solver produce a correct result? The solver produce a timely result?\n",
    "- Change the source to fix `a` or `b` and instead only read one value?\n",
    "- Try smaller vs. larger primes (2,5) vs (104639,104729)\n",
    "- Try changing the size of types used to compute the branch condition (int vs long long)"
   ]
  },
  {
   "cell_type": "code",
   "execution_count": 83,
   "metadata": {},
   "outputs": [],
   "source": [
    "program_directory = \"/home/pac/Desktop/labs/lab7/challenge/\"\n",
    "program_path = program_directory + \"challenge\""
   ]
  },
  {
   "cell_type": "code",
   "execution_count": 84,
   "metadata": {},
   "outputs": [
    {
     "name": "stdout",
     "output_type": "stream",
     "text": [
      "Dump of assembler code for function main:\n",
      "   0x0000000000400632 <+0>:\tpush   rbp\n",
      "   0x0000000000400633 <+1>:\tmov    rbp,rsp\n",
      "   0x0000000000400636 <+4>:\tsub    rsp,0x20\n",
      "   0x000000000040063a <+8>:\tmov    DWORD PTR [rbp-0x14],edi\n",
      "   0x000000000040063d <+11>:\tmov    QWORD PTR [rbp-0x20],rsi\n",
      "   0x0000000000400641 <+15>:\tmov    rax,QWORD PTR fs:0x28\n",
      "   0x000000000040064a <+24>:\tmov    QWORD PTR [rbp-0x8],rax\n",
      "   0x000000000040064e <+28>:\txor    eax,eax\n",
      "   0x0000000000400650 <+30>:\tlea    rax,[rbp-0x10]\n",
      "   0x0000000000400654 <+34>:\tmov    rsi,rax\n",
      "   0x0000000000400657 <+37>:\tlea    rdi,[rip+0x134]        # 0x400792\n",
      "   0x000000000040065e <+44>:\tmov    eax,0x0\n",
      "   0x0000000000400663 <+49>:\tcall   0x400510 <__isoc99_scanf@plt>\n",
      "   0x0000000000400668 <+54>:\tlea    rax,[rbp-0xc]\n",
      "   0x000000000040066c <+58>:\tmov    rsi,rax\n",
      "   0x000000000040066f <+61>:\tlea    rdi,[rip+0x11c]        # 0x400792\n",
      "   0x0000000000400676 <+68>:\tmov    eax,0x0\n",
      "   0x000000000040067b <+73>:\tcall   0x400510 <__isoc99_scanf@plt>\n",
      "   0x0000000000400680 <+78>:\tmov    ecx,0xa\n",
      "   0x0000000000400685 <+83>:\tmov    eax,DWORD PTR [rbp-0xc]\n",
      "   0x0000000000400688 <+86>:\tmovsxd rdx,eax\n",
      "   0x000000000040068b <+89>:\tmov    eax,DWORD PTR [rbp-0x10]\n",
      "   0x000000000040068e <+92>:\tcdqe   \n",
      "   0x0000000000400690 <+94>:\tmov    rsi,rax\n",
      "   0x0000000000400693 <+97>:\tlea    rdi,[rip+0xfe]        # 0x400798\n",
      "   0x000000000040069a <+104>:\tmov    eax,0x0\n",
      "   0x000000000040069f <+109>:\tcall   0x400500 <printf@plt>\n",
      "   0x00000000004006a4 <+114>:\tmov    eax,DWORD PTR [rbp-0x10]\n",
      "   0x00000000004006a7 <+117>:\tmovsxd rdx,eax\n",
      "   0x00000000004006aa <+120>:\tmov    eax,DWORD PTR [rbp-0xc]\n",
      "   0x00000000004006ad <+123>:\tcdqe   \n",
      "   0x00000000004006af <+125>:\timul   rax,rdx\n",
      "   0x00000000004006b3 <+129>:\tmov    edx,0xa\n",
      "   0x00000000004006b8 <+134>:\tcmp    rax,rdx\n",
      "   0x00000000004006bb <+137>:\tjne    0x4006c9 <main+151>\n",
      "   0x00000000004006bd <+139>:\tmov    eax,0x0\n",
      "   0x00000000004006c2 <+144>:\tcall   0x400607 <accepted>\n",
      "   0x00000000004006c7 <+149>:\tjmp    0x4006d3 <main+161>\n",
      "   0x00000000004006c9 <+151>:\tmov    eax,0x0\n",
      "   0x00000000004006ce <+156>:\tcall   0x40061a <rejected>\n",
      "   0x00000000004006d3 <+161>:\tmov    eax,0x0\n",
      "   0x00000000004006d8 <+166>:\tmov    rcx,QWORD PTR [rbp-0x8]\n",
      "   0x00000000004006dc <+170>:\txor    rcx,QWORD PTR fs:0x28\n",
      "   0x00000000004006e5 <+179>:\tje     0x4006ec <main+186>\n",
      "   0x00000000004006e7 <+181>:\tcall   0x4004f0 <__stack_chk_fail@plt>\n",
      "   0x00000000004006ec <+186>:\tleave  \n",
      "   0x00000000004006ed <+187>:\tret    \n",
      "End of assembler dump.\n",
      "\n"
     ]
    }
   ],
   "source": [
    "import os\n",
    "print(os.popen(\"gdb \" + program_path + \" -batch -ex 'disassemble main'\").read())"
   ]
  },
  {
   "cell_type": "code",
   "execution_count": 85,
   "metadata": {},
   "outputs": [],
   "source": [
    "# import the python system and angr libraries\n",
    "\n",
    "import angr\n",
    "import sys"
   ]
  },
  {
   "cell_type": "code",
   "execution_count": 86,
   "metadata": {},
   "outputs": [],
   "source": [
    "# load the challenge binary\n",
    "proj = angr.Project(program_path)\n",
    "\n",
    "main_address = proj.loader.find_symbol(\"main\").rebased_addr\n",
    "\n",
    "# recovered through objdump, gdb, radare2, or some dissassembler the offset\n",
    "# to the start of the basic block that calls the print_flag function\n",
    "target_address_offset = 139 # start of basic block with call to print_flag\n",
    "target_address = main_address + target_address_offset\n",
    "\n",
    "rejected_address_offset = 151\n",
    "rejected_address = main_address + rejected_address_offset"
   ]
  },
  {
   "cell_type": "code",
   "execution_count": 87,
   "metadata": {},
   "outputs": [],
   "source": [
    "# start the program state at the beginning of main\n",
    "state = proj.factory.entry_state(addr=main_address)\n",
    "sm = proj.factory.simulation_manager(state)"
   ]
  },
  {
   "cell_type": "code",
   "execution_count": null,
   "metadata": {},
   "outputs": [
    {
     "name": "stderr",
     "output_type": "stream",
     "text": [
      "WARNING | 2020-05-25 20:29:30,387 | \u001b[32mangr.state_plugins.symbolic_memory\u001b[0m | \u001b[32mFilling register rdi with 8 unconstrained bytes referenced from 0x40063a (main+0x8 in challenge (0x40063a))\u001b[0m\n",
      "WARNING | 2020-05-25 20:29:30,414 | \u001b[32mangr.state_plugins.symbolic_memory\u001b[0m | \u001b[32mFilling register rsi with 8 unconstrained bytes referenced from 0x40063d (main+0xb in challenge (0x40063d))\u001b[0m\n"
     ]
    }
   ],
   "source": [
    "# symbolically explore the program, solving for inputs that satisfy paths to the target address\n",
    "sm.explore(find=target_address, avoid=[rejected_address])\n",
    "while len(sm.found) == 0:\n",
    "    sm.step()\n",
    "\n",
    "# if the solver found a way to reach the target address then print the input\n",
    "if (len(sm.found) > 0):\n",
    "    print(\"Found an input to satisfy the path constraints to reach target address!\")\n",
    "    found_input = sm.found[0].posix.dumps(sys.stdin.fileno())\n",
    "    print(found_input)\n",
    "    with open(\"analysis_result\", \"wb\") as fp:\n",
    "        fp.write(found_input)\n",
    "else:\n",
    "    print(\"Unable to compute an input that satisfies the path constraints to reach the target address\")"
   ]
  },
  {
   "cell_type": "code",
   "execution_count": null,
   "metadata": {},
   "outputs": [],
   "source": [
    "# test the computed input on the challenge program\n",
    "\n",
    "command = program_path + \" < \" + program_directory + \"analysis_result\"\n",
    "print(os.popen(command).read())"
   ]
  },
  {
   "cell_type": "code",
   "execution_count": null,
   "metadata": {},
   "outputs": [],
   "source": []
  }
 ],
 "metadata": {
  "kernelspec": {
   "display_name": "Python 3",
   "language": "python",
   "name": "python3"
  },
  "language_info": {
   "codemirror_mode": {
    "name": "ipython",
    "version": 3
   },
   "file_extension": ".py",
   "mimetype": "text/x-python",
   "name": "python",
   "nbconvert_exporter": "python",
   "pygments_lexer": "ipython3",
   "version": "3.6.9"
  }
 },
 "nbformat": 4,
 "nbformat_minor": 2
}
