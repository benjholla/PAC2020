{
 "cells": [
  {
   "cell_type": "markdown",
   "metadata": {},
   "source": [
    "# Overview\n",
    "\n",
    "This examples uses symbolic execution to solve the crackme binary.\n",
    "\n",
    "Compile the binary with `gcc crackme.c -no-pie -o crackme`"
   ]
  },
  {
   "cell_type": "code",
   "execution_count": 20,
   "metadata": {},
   "outputs": [],
   "source": [
    "program_directory = \"/home/pac/Desktop/labs/lab7/crackme/\"\n",
    "program_path = program_directory + \"crackme\""
   ]
  },
  {
   "cell_type": "code",
   "execution_count": 21,
   "metadata": {},
   "outputs": [
    {
     "name": "stdout",
     "output_type": "stream",
     "text": [
      "Dump of assembler code for function main:\n",
      "   0x000000000040061f <+0>:\tpush   rbp\n",
      "   0x0000000000400620 <+1>:\tmov    rbp,rsp\n",
      "   0x0000000000400623 <+4>:\tsub    rsp,0x20\n",
      "   0x0000000000400627 <+8>:\tmov    DWORD PTR [rbp-0x14],edi\n",
      "   0x000000000040062a <+11>:\tmov    QWORD PTR [rbp-0x20],rsi\n",
      "   0x000000000040062e <+15>:\tmov    rax,QWORD PTR fs:0x28\n",
      "   0x0000000000400637 <+24>:\tmov    QWORD PTR [rbp-0x8],rax\n",
      "   0x000000000040063b <+28>:\txor    eax,eax\n",
      "   0x000000000040063d <+30>:\tlea    rdi,[rip+0x10e]        # 0x400752\n",
      "   0x0000000000400644 <+37>:\tmov    eax,0x0\n",
      "   0x0000000000400649 <+42>:\tcall   0x400500 <printf@plt>\n",
      "   0x000000000040064e <+47>:\tlea    rax,[rbp-0xc]\n",
      "   0x0000000000400652 <+51>:\tmov    rsi,rax\n",
      "   0x0000000000400655 <+54>:\tlea    rdi,[rip+0x107]        # 0x400763\n",
      "   0x000000000040065c <+61>:\tmov    eax,0x0\n",
      "   0x0000000000400661 <+66>:\tcall   0x400510 <__isoc99_scanf@plt>\n",
      "   0x0000000000400666 <+71>:\tmov    eax,DWORD PTR [rbp-0xc]\n",
      "   0x0000000000400669 <+74>:\tcmp    eax,0x4d2\n",
      "   0x000000000040066e <+79>:\tjne    0x40067c <main+93>\n",
      "   0x0000000000400670 <+81>:\tmov    eax,0x0\n",
      "   0x0000000000400675 <+86>:\tcall   0x400607 <print_flag>\n",
      "   0x000000000040067a <+91>:\tjmp    0x400688 <main+105>\n",
      "   0x000000000040067c <+93>:\tlea    rdi,[rip+0xe3]        # 0x400766\n",
      "   0x0000000000400683 <+100>:\tcall   0x4004e0 <puts@plt>\n",
      "   0x0000000000400688 <+105>:\tmov    eax,0x0\n",
      "   0x000000000040068d <+110>:\tmov    rdx,QWORD PTR [rbp-0x8]\n",
      "   0x0000000000400691 <+114>:\txor    rdx,QWORD PTR fs:0x28\n",
      "   0x000000000040069a <+123>:\tje     0x4006a1 <main+130>\n",
      "   0x000000000040069c <+125>:\tcall   0x4004f0 <__stack_chk_fail@plt>\n",
      "   0x00000000004006a1 <+130>:\tleave  \n",
      "   0x00000000004006a2 <+131>:\tret    \n",
      "End of assembler dump.\n",
      "\n"
     ]
    }
   ],
   "source": [
    "import os\n",
    "print(os.popen(\"gdb \" + program_path + \" -batch -ex 'disassemble main'\").read())"
   ]
  },
  {
   "cell_type": "code",
   "execution_count": 22,
   "metadata": {},
   "outputs": [],
   "source": [
    "# import the python system and angr libraries\n",
    "\n",
    "import angr\n",
    "import sys"
   ]
  },
  {
   "cell_type": "code",
   "execution_count": 23,
   "metadata": {},
   "outputs": [],
   "source": [
    "# load the challenge binary\n",
    "proj = angr.Project(program_path)\n",
    "\n",
    "main_address = proj.loader.find_symbol(\"main\").rebased_addr\n",
    "\n",
    "# recovered through objdump, gdb, radare2, or some dissassembler the offset\n",
    "# to the start of the basic block that calls the print_flag function\n",
    "target_address_offset = 81 # start of basic block with call to print_flag\n",
    "target_address = main_address + target_address_offset"
   ]
  },
  {
   "cell_type": "code",
   "execution_count": 24,
   "metadata": {},
   "outputs": [],
   "source": [
    "# start the program state at the beginning of main\n",
    "state = proj.factory.entry_state(addr=main_address)\n",
    "sm = proj.factory.simulation_manager(state)"
   ]
  },
  {
   "cell_type": "code",
   "execution_count": 28,
   "metadata": {},
   "outputs": [
    {
     "name": "stdout",
     "output_type": "stream",
     "text": [
      "Found an input to satisfy the path constraints to reach target address!\n",
      "b'0000001234'\n"
     ]
    }
   ],
   "source": [
    "# symbolically explore the program, solving for inputs that satisfy paths to the target address\n",
    "sm.explore(find=target_address)\n",
    "while len(sm.found) == 0:\n",
    "    sm.step()\n",
    "\n",
    "# if the solver found a way to reach the target address then print the input\n",
    "if (len(sm.found) > 0):\n",
    "    print(\"Found an input to satisfy the path constraints to reach target address!\")\n",
    "    found_input = sm.found[0].posix.dumps(sys.stdin.fileno())\n",
    "    print(found_input)\n",
    "    with open(\"analysis_result\", \"wb\") as fp:\n",
    "        fp.write(found_input)\n",
    "else:\n",
    "    print(\"Unable to compute an input that satisfies the path constraints to reach the target address\")"
   ]
  },
  {
   "cell_type": "code",
   "execution_count": 27,
   "metadata": {},
   "outputs": [
    {
     "name": "stdout",
     "output_type": "stream",
     "text": [
      "Enter Password: flag{program_analysis_is_fun}\n"
     ]
    }
   ],
   "source": [
    "# test the computed input to make the program print the flag\n",
    "\n",
    "command = program_path + \" < \" + program_directory + \"analysis_result\"\n",
    "print(os.popen(command).read())"
   ]
  }
 ],
 "metadata": {
  "kernelspec": {
   "display_name": "Python 3",
   "language": "python",
   "name": "python3"
  },
  "language_info": {
   "codemirror_mode": {
    "name": "ipython",
    "version": 3
   },
   "file_extension": ".py",
   "mimetype": "text/x-python",
   "name": "python",
   "nbconvert_exporter": "python",
   "pygments_lexer": "ipython3",
   "version": "3.6.9"
  }
 },
 "nbformat": 4,
 "nbformat_minor": 2
}
